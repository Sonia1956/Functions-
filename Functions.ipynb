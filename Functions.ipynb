{
  "nbformat": 4,
  "nbformat_minor": 0,
  "metadata": {
    "colab": {
      "provenance": []
    },
    "kernelspec": {
      "name": "python3",
      "display_name": "Python 3"
    },
    "language_info": {
      "name": "python"
    }
  },
  "cells": [
    {
      "cell_type": "markdown",
      "source": [],
      "metadata": {
        "id": "5GemAS6gp5Ry"
      }
    },
    {
      "cell_type": "markdown",
      "source": [
        "# Functions\n"
      ],
      "metadata": {
        "id": "CtEUOdukp6WA"
      }
    },
    {
      "cell_type": "markdown",
      "source": [
        "1.What is the difference between a function and a method in Python?\n",
        "  - A functions is independent and can be called from anywhere, while a method is tied to a class or object and must be called on that object or within that class.\n",
        "*italicized text*"
      ],
      "metadata": {
        "id": "yCt-vxKurao2"
      }
    },
    {
      "cell_type": "markdown",
      "source": [
        "2.Explain the concept of function arguments and parameters in Python.\n",
        "\n",
        "- In Python, function arguments and parameters refer to the values and variables used in function definitions and calls.\n",
        "\n",
        "   Parameters are placeholders in the function definition.\n",
        "\n",
        "   Arguments are actual values sent during a function call.\n",
        "\n",
        "\n",
        "\n"
      ],
      "metadata": {
        "id": "mHcq9AZLsGZs"
      }
    },
    {
      "cell_type": "markdown",
      "source": [],
      "metadata": {
        "id": "qKOfZh4AtAUW"
      }
    },
    {
      "cell_type": "markdown",
      "source": [],
      "metadata": {
        "id": "WCIiLJoVs5bE"
      }
    },
    {
      "cell_type": "markdown",
      "source": [
        "3.What are the different ways to define and call a function in Python?\n",
        " - In Python, there are several ways to define and call functions, depending on your needs—ranging from simple named functions to anonymous or dynamic ones.  \n",
        "\n",
        "\n",
        "\n"
      ],
      "metadata": {
        "id": "NJl-Q37gtliE"
      }
    },
    {
      "cell_type": "code",
      "source": [],
      "metadata": {
        "id": "ZAURRpp4u6Ug"
      },
      "execution_count": null,
      "outputs": []
    },
    {
      "cell_type": "code",
      "execution_count": null,
      "metadata": {
        "id": "yhejcoQxpsRN"
      },
      "outputs": [],
      "source": []
    }
  ]
}